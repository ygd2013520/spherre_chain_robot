{
 "cells": [
  {
   "cell_type": "markdown",
   "metadata": {},
   "source": [
    "# 颜色分拣玩法"
   ]
  },
  {
   "cell_type": "markdown",
   "metadata": {},
   "source": [
    "### 导入头文件"
   ]
  },
  {
   "cell_type": "code",
   "execution_count": 10,
   "metadata": {},
   "outputs": [],
   "source": [
    "#!/usr/bin/env python\n",
    "# coding: utf-8\n",
    "import cv2 as cv\n",
    "import threading\n",
    "from time import sleep\n",
    "from dofbot_config import *\n",
    "import ipywidgets as widgets\n",
    "from IPython.display import display\n",
    "from identify_target import identify_GetTarget"
   ]
  },
  {
   "cell_type": "markdown",
   "metadata": {},
   "source": [
    "### 创建实例,初始化参数"
   ]
  },
  {
   "cell_type": "code",
   "execution_count": 11,
   "metadata": {},
   "outputs": [],
   "source": [
    "# 创建获取目标实例\n",
    "target      = identify_GetTarget()\n",
    "# 创建相机标定实例\n",
    "calibration = Arm_Calibration()\n",
    "# 初始化一些参数\n",
    "num=0\n",
    "dp    = []\n",
    "xy=[90,135]\n",
    "msg   = {}\n",
    "threshold = 140\n",
    "model = \"General\"\n",
    "color_list = {}\n",
    "# 初始化HSV值\n",
    "color_hsv  = {\"red\"   : ((0, 43, 46), (10, 255, 255)),\n",
    "              \"green\" : ((35, 43, 46), (77, 255, 255)),\n",
    "              \"blue\"  : ((100, 43, 46), (124, 255, 255)),\n",
    "              \"yellow\": ((26, 43, 46), (34, 255, 255))}\n",
    "HSV_path=\"/home/dofbot/dofbot_ws/src/dofbot_color_identify/scripts/HSV_config.txt\"\n",
    "# XYT参数路径\n",
    "XYT_path=\"/home/dofbot/dofbot_ws/src/dofbot_color_identify/scripts/XYT_config.txt\"\n",
    "\n",
    "# png path\n",
    "calibration_path=\"/home/dofbot/dofbot_ws/src/dofbot_color_identify/scripts/calibration.png\"\n",
    "calibration_ok_path=\"/home/dofbot/dofbot_ws/src/dofbot_color_identify/scripts/calibration_ok.png\"\n",
    "\n",
    "try: read_HSV(HSV_path,color_hsv)\n",
    "except Exception: print(\"Read HSV_config Error !!!\")\n",
    "try: xy, thresh = read_XYT(XYT_path)\n",
    "except Exception: print(\"Read XYT_config Error !!!\")"
   ]
  },
  {
   "cell_type": "markdown",
   "metadata": {},
   "source": [
    "### 初始化机械臂位置"
   ]
  },
  {
   "cell_type": "code",
   "execution_count": 12,
   "metadata": {},
   "outputs": [],
   "source": [
    "import Arm_Lib\n",
    "# 创建机械臂驱动实例\n",
    "arm = Arm_Lib.Arm_Device()\n",
    "joints_0 = [xy[0], xy[1], 0, 0, 90, 30]\n",
    "arm.Arm_serial_servo_write6_array(joints_0, 1000)"
   ]
  },
  {
   "cell_type": "markdown",
   "metadata": {},
   "source": [
    "### 创建控件"
   ]
  },
  {
   "cell_type": "code",
   "execution_count": 13,
   "metadata": {},
   "outputs": [],
   "source": [
    "button_layout      = widgets.Layout(width='320px', height='60px', align_self='center')\n",
    "output = widgets.Output()\n",
    "# 调整滑杆\n",
    "joint1_slider      = widgets.IntSlider(description='joint1 :'   ,    value=xy[0]     , min=70 , max=110, step=1, orientation='horizontal')\n",
    "joint2_slider      = widgets.IntSlider(description='joint2 :'   ,    value=xy[1]     , min=115, max=155, step=1, orientation='horizontal')\n",
    "threshold_slider   = widgets.IntSlider(description='threshold :',    value=threshold , min=0  , max=255, step=1, orientation='horizontal')\n",
    "\n",
    "# 进入标定模式\n",
    "calibration_model  = widgets.Button(description='calibration_model',  button_style='primary', layout=button_layout)\n",
    "calibration_ok     = widgets.Button(description='calibration_ok',     button_style='success', layout=button_layout)\n",
    "calibration_cancel = widgets.Button(description='calibration_cancel', button_style='danger', layout=button_layout)\n",
    "# 选择抓取颜色\n",
    "color_list_one     = widgets.Dropdown(options=['red', 'green', 'blue', 'yellow', 'none'], value='none', disabled=False)\n",
    "color_list_two     = widgets.Dropdown(options=['red', 'green', 'blue', 'yellow', 'none'], value='none', disabled=False)\n",
    "color_list_three   = widgets.Dropdown(options=['red', 'green', 'blue', 'yellow', 'none'], value='none', disabled=False)\n",
    "color_list_four    = widgets.Dropdown(options=['red', 'green', 'blue', 'yellow', 'none'], value='none', disabled=False)\n",
    "# 目标检测抓取\n",
    "target_detection   = widgets.Button(description='target_detection', button_style='info', layout=button_layout)\n",
    "reset_color_list   = widgets.Button(description='reset_color_list', button_style='info', layout=button_layout)\n",
    "grap = widgets.Button(description='grap', button_style='success', layout=button_layout)\n",
    "# 退出\n",
    "exit_button = widgets.Button(description='Exit', button_style='danger', layout=button_layout)\n",
    "imgbox = widgets.Image(format='jpg', height=480, width=640, layout=widgets.Layout(align_self='center'))\n",
    "color_down = widgets.HBox([exit_button, reset_color_list], layout=widgets.Layout(align_self='center'));\n",
    "color_img = widgets.VBox([imgbox, color_down], layout=widgets.Layout(align_self='center'));\n",
    "color_identify = widgets.VBox(\n",
    "    [joint1_slider, joint2_slider, threshold_slider, calibration_model, calibration_ok, calibration_cancel,\n",
    "     color_list_one, color_list_two, color_list_three, color_list_four, target_detection, grap],\n",
    "    layout=widgets.Layout(align_self='center'));\n",
    "controls_box = widgets.HBox([color_img, color_identify], layout=widgets.Layout(align_self='center'))"
   ]
  },
  {
   "cell_type": "markdown",
   "metadata": {},
   "source": [
    "### 标定回调"
   ]
  },
  {
   "cell_type": "code",
   "execution_count": 14,
   "metadata": {},
   "outputs": [],
   "source": [
    "def calibration_model_Callback(value):\n",
    "    global model\n",
    "    model = 'Calibration'\n",
    "    with output: print(model)\n",
    "def calibration_OK_Callback(value):\n",
    "    global model\n",
    "    model = 'calibration_OK'\n",
    "    with output: print(model)\n",
    "def calibration_cancel_Callback(value):\n",
    "    global model\n",
    "    model = 'calibration_Cancel'\n",
    "    with output: print(model)\n",
    "calibration_model.on_click(calibration_model_Callback)\n",
    "calibration_ok.on_click(calibration_OK_Callback)\n",
    "calibration_cancel.on_click(calibration_cancel_Callback)"
   ]
  },
  {
   "cell_type": "markdown",
   "metadata": {},
   "source": [
    "### 颜色选择序列"
   ]
  },
  {
   "cell_type": "code",
   "execution_count": 15,
   "metadata": {},
   "outputs": [],
   "source": [
    "# 选择颜色\n",
    "def color_list_one_Callback(value):\n",
    "    global model,color_list\n",
    "    model=\"General\"\n",
    "    if not isinstance(value['new'],str):return\n",
    "    if value['new'] == \"none\":\n",
    "        if '1' in color_list:del color_list['1']\n",
    "    elif value['new'] == \"red\":\n",
    "        color_list['1'] = \"red\"\n",
    "    elif value['new']== \"green\":\n",
    "        color_list['1'] = \"green\"\n",
    "    elif value['new'] == \"blue\":\n",
    "        color_list['1'] = \"blue\"\n",
    "    elif value['new'] == \"yellow\":\n",
    "        color_list['1'] = \"yellow\"\n",
    "    with output:\n",
    "        print(\"color_list_three_Callback clicked.\",color_list)\n",
    "def color_list_two_Callback(value):\n",
    "    global model,color_list\n",
    "    model=\"General\"\n",
    "    if not isinstance(value['new'],str):return\n",
    "    if value['new'] == \"none\":\n",
    "        if '2' in color_list:del color_list['2']\n",
    "    elif value['new'] == \"red\":\n",
    "        color_list['2'] = \"red\"\n",
    "    elif value['new'] == \"green\":\n",
    "        color_list['2'] = \"green\"\n",
    "    elif value['new'] == \"blue\":\n",
    "        color_list['2'] = \"blue\"\n",
    "    elif value['new'] == \"yellow\":\n",
    "        color_list['2'] = \"yellow\"\n",
    "    with output:\n",
    "        print(\"color_list_three_Callback clicked.\",color_list)\n",
    "def color_list_three_Callback(value):\n",
    "    global model,color_list\n",
    "    model=\"General\"\n",
    "    if not isinstance(value['new'],str):return\n",
    "    if value['new'] == \"none\":\n",
    "        if '3' in color_list:del color_list['3']\n",
    "    elif value['new'] == \"red\":\n",
    "        color_list['3'] = \"red\"\n",
    "    elif value['new'] == \"green\":\n",
    "        color_list['3'] = \"green\"\n",
    "    elif value['new'] == \"blue\":\n",
    "        color_list['3'] = \"blue\"\n",
    "    elif value['new'] == \"yellow\":\n",
    "        color_list['3'] = \"yellow\"\n",
    "    with output:\n",
    "        print(\"color_list_three_Callback clicked.\",color_list)\n",
    "def color_list_four_Callback(value):\n",
    "    global model,color_list\n",
    "    model=\"General\"\n",
    "    if not isinstance(value['new'],str):return\n",
    "    if value['new'] == \"none\":\n",
    "        if '4' in color_list:del color_list['4']\n",
    "    elif value['new'] == \"red\":\n",
    "        color_list['4'] = \"red\"\n",
    "    elif value['new'] == \"green\":\n",
    "        color_list['4'] = \"green\"\n",
    "    elif value['new'] == \"blue\":\n",
    "        color_list['4'] = \"blue\"\n",
    "    elif value['new'] == \"yellow\":\n",
    "        color_list['4'] = \"yellow\"\n",
    "    with output:\n",
    "        print(\"color_list_four_Callback clicked.\",color_list)\n",
    "color_list_one.observe(color_list_one_Callback)\n",
    "color_list_two.observe(color_list_two_Callback)\n",
    "color_list_three.observe(color_list_three_Callback)\n",
    "color_list_four.observe(color_list_four_Callback)"
   ]
  },
  {
   "cell_type": "markdown",
   "metadata": {},
   "source": [
    "### 抓取控制"
   ]
  },
  {
   "cell_type": "code",
   "execution_count": 16,
   "metadata": {},
   "outputs": [],
   "source": [
    "# 抓取控制\n",
    "def target_detection_Callback(value):\n",
    "    global model\n",
    "    model = 'Detection'\n",
    "    with output: print(model)\n",
    "def reset_color_list_Callback(value):\n",
    "    global model\n",
    "    model = 'Reset_list'\n",
    "    with output: print(model)\n",
    "def grap_Callback(value):\n",
    "    global model\n",
    "    model = 'Grap'\n",
    "    with output: print(model)\n",
    "def exit_button_Callback(value):\n",
    "    global model\n",
    "    model = 'Exit'\n",
    "    with output: print(model)\n",
    "target_detection.on_click(target_detection_Callback)\n",
    "reset_color_list.on_click(reset_color_list_Callback)\n",
    "grap.on_click(grap_Callback)\n",
    "exit_button.on_click(exit_button_Callback)"
   ]
  },
  {
   "cell_type": "markdown",
   "metadata": {},
   "source": [
    "### 主程序"
   ]
  },
  {
   "cell_type": "code",
   "execution_count": 17,
   "metadata": {},
   "outputs": [],
   "source": [
    "def camera():\n",
    "    global color_hsv,model,dp,msg,color_list\n",
    "    # 打开摄像头\n",
    "    capture = cv.VideoCapture(0)\n",
    "    # 当摄像头正常打开的情况下循环执行\n",
    "    while capture.isOpened():\n",
    "        try:\n",
    "            # 读取相机的每一帧\n",
    "            _, img = capture.read()\n",
    "            # 统一图像大小\n",
    "            img = cv.resize(img, (640, 480))\n",
    "            xy=[joint1_slider.value,joint2_slider.value]\n",
    "            if model == 'Calibration':\n",
    "                img = cv.imread(calibration_path)\n",
    "                _, img = calibration.calibration_map(img,xy,threshold_slider.value)\n",
    "            if model == 'calibration_OK':\n",
    "                try: write_XYT(XYT_path,xy, threshold_slider.value)\n",
    "                except Exception: print(\"File XYT_config Error !!!\")\n",
    "                img = cv.imread(calibration_ok_path)\n",
    "                dp, img = calibration.calibration_map(img,xy,threshold_slider.value)\n",
    "                model=\"General\"\n",
    "            if len(dp) != 0: img = calibration.Perspective_transform(dp, img)\n",
    "            if model == 'calibration_Cancel':  \n",
    "                dp = []\n",
    "                msg= {}\n",
    "                model=\"General\"\n",
    "            if len(dp)!= 0 and len(color_list)!= 0 and model == 'Detection':\n",
    "                img, msg = target.select_color(img, color_hsv,color_list)\n",
    "            if model==\"Reset_list\":\n",
    "                msg={}\n",
    "                color_list = {}\n",
    "                model=\"General\"\n",
    "            if len(msg)!= 0 and model == 'Grap':\n",
    "                threading.Thread(target=target.target_run, args=(msg,xy)).start()\n",
    "                msg={}\n",
    "                model=\"Detection\"\n",
    "            if model == 'Exit':\n",
    "                cv.destroyAllWindows()\n",
    "                capture.release()\n",
    "                break\n",
    "            imgbox.value = cv.imencode('.jpg', img)[1].tobytes()\n",
    "        except KeyboardInterrupt:capture.release()\n",
    "\n",
    "#create socket server\n",
    "import socket\n",
    "def create_server():\n",
    "    global model,color_list,msg\n",
    "    # 初始化机械手\n",
    "    while True:\n",
    "        model = \"Calibration\"\n",
    "        sleep(2)\n",
    "        model = \"calibration_OK\"\n",
    "        sleep(2)\n",
    "        if model == \"General\":\n",
    "            break\n",
    "    print(\"Calibration completed!!!\")\n",
    "    model = \"Detection\"\n",
    "    sleep(1)\n",
    "    print(\"Init completed!!!\")\n",
    "    # 建立一个服务端\n",
    "    server = socket.socket(socket.AF_INET,socket.SOCK_STREAM)\n",
    "    server.bind(('0.0.0.0',8099)) #绑定要监听的端口\n",
    "    server.listen(5) #开始监听 表示可以使用五个链接排队\n",
    "    while True:# conn就是客户端链接过来而在服务端为期生成的一个链接实例\n",
    "        conn,addr = server.accept() #等待链接,多个链接的时候就会出现问题,其实返回了两个值\n",
    "        #print(conn,addr)\n",
    "        color_list['1'] = \"yellow\"\n",
    "#         color_list['2'] = \"red\"\n",
    "#         color_list['3'] = \"blue\"\n",
    "#         color_list['4'] = \"green\"\n",
    "        try:\n",
    "            data = conn.recv(1024)  #接收数据\n",
    "            print('recive:',data.decode()) #打印接收到的数据\n",
    "            if data.decode() == 'arrived':\n",
    "                if len(msg)!= 0:\n",
    "                    model = 'Grap'\n",
    "                    conn.send(\"begin grap\".encode())\n",
    "                    print(\"status: begin grap\")\n",
    "                    sleep(2)\n",
    "                else:\n",
    "                    conn.send(\"nothing\".encode())\n",
    "                    print(\"status: nothing get\")\n",
    "            elif data.decode() == 'iscompleted':\n",
    "                if target.iscompleted == True:\n",
    "                    conn.send(\"yes\".encode())\n",
    "                    print(\"status: completed grap\")\n",
    "                else:\n",
    "                    conn.send(\"no\".encode())\n",
    "                    print(\"status: grap not completed\")\n",
    "            else:\n",
    "                conn.send(\"Message Error\".encode())\n",
    "        except ConnectionResetError as e:\n",
    "            print('关闭了正在占线的链接！')\n",
    "            #break\n",
    "        conn.close()\n",
    "\n",
    "\n",
    "# ### 启动"
   ]
  },
  {
   "cell_type": "markdown",
   "metadata": {},
   "source": [
    "### 启动"
   ]
  },
  {
   "cell_type": "code",
   "execution_count": 18,
   "metadata": {},
   "outputs": [
    {
     "data": {
      "application/vnd.jupyter.widget-view+json": {
       "model_id": "8b3cd7b7becc479fb3d90de76a57d454",
       "version_major": 2,
       "version_minor": 0
      },
      "text/plain": [
       "HBox(children=(VBox(children=(Image(value=b'', format='jpg', height='480', layout=\"Layout(align_self='center')…"
      ]
     },
     "metadata": {},
     "output_type": "display_data"
    },
    {
     "data": {
      "application/vnd.jupyter.widget-view+json": {
       "model_id": "67c24f912d7d43e185caf2f8d38ae838",
       "version_major": 2,
       "version_minor": 0
      },
      "text/plain": [
       "Output()"
      ]
     },
     "metadata": {},
     "output_type": "display_data"
    },
    {
     "name": "stderr",
     "output_type": "stream",
     "text": [
      "Exception in thread Thread-11:\n",
      "Traceback (most recent call last):\n",
      "  File \"/usr/lib/python3.8/threading.py\", line 932, in _bootstrap_inner\n",
      "    self.run()\n",
      "  File \"/usr/lib/python3.8/threading.py\", line 870, in run\n",
      "    self._target(*self._args, **self._kwargs)\n",
      "  File \"<ipython-input-17-606432d9a9b4>\", line 39, in camera\n",
      "cv2.error: OpenCV(4.2.0) ../modules/imgcodecs/src/loadsave.cpp:877: error: (-215:Assertion failed) !image.empty() in function 'imencode'\n",
      "\n"
     ]
    },
    {
     "name": "stdout",
     "output_type": "stream",
     "text": [
      "Calibration completed!!!\n",
      "Init completed!!!\n"
     ]
    }
   ],
   "source": [
    "# display(controls_box)\n",
    "display(controls_box,output)\n",
    "threading.Thread(target=camera, ).start()\n",
    "threading.Thread(target=create_server, ).start()"
   ]
  },
  {
   "cell_type": "code",
   "execution_count": null,
   "metadata": {},
   "outputs": [],
   "source": []
  },
  {
   "cell_type": "code",
   "execution_count": null,
   "metadata": {},
   "outputs": [],
   "source": []
  },
  {
   "cell_type": "code",
   "execution_count": null,
   "metadata": {},
   "outputs": [],
   "source": []
  },
  {
   "cell_type": "code",
   "execution_count": null,
   "metadata": {},
   "outputs": [],
   "source": []
  },
  {
   "cell_type": "code",
   "execution_count": null,
   "metadata": {},
   "outputs": [],
   "source": []
  }
 ],
 "metadata": {
  "kernelspec": {
   "display_name": "Python 3",
   "language": "python",
   "name": "python3"
  },
  "language_info": {
   "codemirror_mode": {
    "name": "ipython",
    "version": 3
   },
   "file_extension": ".py",
   "mimetype": "text/x-python",
   "name": "python",
   "nbconvert_exporter": "python",
   "pygments_lexer": "ipython3",
   "version": "3.8.5"
  }
 },
 "nbformat": 4,
 "nbformat_minor": 4
}
